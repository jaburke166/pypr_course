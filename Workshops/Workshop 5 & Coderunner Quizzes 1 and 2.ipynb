{
 "cells": [
  {
   "cell_type": "markdown",
   "metadata": {},
   "source": [
    "# Workshop 5"
   ]
  },
  {
   "cell_type": "code",
   "execution_count": 1,
   "metadata": {},
   "outputs": [],
   "source": [
    "# Question 1\n",
    "\n",
    "import numpy.random\n",
    "\n",
    "def dice(n):\n",
    "    '''\n",
    "    Returns the results from n, 6-sided\n",
    "    dice throws\n",
    "    '''\n",
    "    ans = list(numpy.random.randint(1,7,n))\n",
    "    return ans"
   ]
  },
  {
   "cell_type": "code",
   "execution_count": 2,
   "metadata": {},
   "outputs": [],
   "source": [
    "# Question 2\n",
    "\n",
    "import scipy.stats as stats\n",
    "\n",
    "def coin():\n",
    "    '''\n",
    "    Simulate a coin toss with a Bernoulli RV\n",
    "    '''\n",
    "    p = 0.5\n",
    "    guess = stats.bernoulli.rvs(p)\n",
    "    if guess == 0:\n",
    "        return 'Tails'\n",
    "    else:\n",
    "        return 'Heads'"
   ]
  },
  {
   "cell_type": "markdown",
   "metadata": {},
   "source": [
    "# Coderunner Quiz 1"
   ]
  },
  {
   "cell_type": "code",
   "execution_count": 12,
   "metadata": {},
   "outputs": [],
   "source": [
    "# Question 1\n",
    "\n",
    "import math\n",
    "\n",
    "def my_function(x):\n",
    "    '''\n",
    "    Returns the value of the given function.\n",
    "    '''\n",
    "    # Three conditions for x and calculate the value accordingly\n",
    "    if x < 0:\n",
    "        f = math.exp(x)*abs(x)\n",
    "    elif x >= 1:\n",
    "        f = x**2 + 1\n",
    "    else:\n",
    "        f = math.sin(x)\n",
    "    #return value\n",
    "    return f"
   ]
  },
  {
   "cell_type": "code",
   "execution_count": null,
   "metadata": {},
   "outputs": [],
   "source": [
    "# Question 2\n",
    "\n",
    "import numpy as np\n",
    "\n",
    "# Take in x as a list\n",
    "def window(x):\n",
    "        '''\n",
    "    Returns a list with elements of a list of numbers that are between 10 and 50.\n",
    "    '''\n",
    "    # return list comprehension conditioning on the value of the items in x\n",
    "    return [item for item in x if item > 10 and item < 50]\n",
    "    "
   ]
  },
  {
   "cell_type": "code",
   "execution_count": null,
   "metadata": {},
   "outputs": [],
   "source": [
    "# Question 3\n",
    "\n",
    "def diff_type(x,y):\n",
    "    '''\n",
    "    Function to check whether arguments have the same type - returns a boolean.\n",
    "    '''\n",
    "    # Set up IF statement to assign boolean depending on the types of x and y\n",
    "    if type(x) == type(y):\n",
    "        bool = False\n",
    "    else:\n",
    "        bool = True\n",
    "    #return boolean \n",
    "    return bool"
   ]
  },
  {
   "cell_type": "markdown",
   "metadata": {},
   "source": [
    "# Coderunner Quiz 2"
   ]
  },
  {
   "cell_type": "code",
   "execution_count": 6,
   "metadata": {},
   "outputs": [],
   "source": [
    "# Question 1\n",
    "\n",
    "def string_rev_ext(string):\n",
    "    '''This function returns a string consisting of the \n",
    "    original string joined with a colon and then a \n",
    "    reversed version of the original string.'''\n",
    "    output = string + ':' + string[::-1]\n",
    "    return output"
   ]
  },
  {
   "cell_type": "code",
   "execution_count": 7,
   "metadata": {},
   "outputs": [],
   "source": [
    "# Question 2\n",
    "\n",
    "import numpy as np\n",
    "\n",
    "def movie_perform(movies):\n",
    "    '''Take in a dictionary of films with their gross in dollars and\n",
    "    Determine the max and minimum gross that the dictionary of films\n",
    "    had. Determine difference between min and max and return as tuple\n",
    "    with the highest earning films'''\n",
    "    \n",
    "    values = list(movies.values())\n",
    "    maxgross = np.max(values)\n",
    "    idx = np.argmax(values)\n",
    "    \n",
    "    mingross = np.min(values)\n",
    "    diff = maxgross-mingross\n",
    "    return (list(movies.keys())[idx], diff)"
   ]
  },
  {
   "cell_type": "code",
   "execution_count": 13,
   "metadata": {},
   "outputs": [],
   "source": [
    "# Question 3\n",
    "\n",
    "def perrin_gen():\n",
    "    '''This is a python generator which produces\n",
    "    the Perrin numbers 3,0,2,3,2,5,5,...\n",
    "    '''\n",
    "    p0 = 3\n",
    "    p1 = 0\n",
    "    p2 = 2\n",
    "    while True:\n",
    "        yield p0\n",
    "        p3 = p1 + p0\n",
    "        p0 = p1\n",
    "        p1 = p2\n",
    "        p2 = p3"
   ]
  },
  {
   "cell_type": "code",
   "execution_count": 14,
   "metadata": {},
   "outputs": [],
   "source": [
    "# Question 4\n",
    "\n",
    "import numpy as np\n",
    "\n",
    "def list_triples(amin, cmax):\n",
    "    '''Return a list containing all triple tuples that solve \n",
    "    a^2 + 2b^2 = c^2 and where all numbers in the triple lie in the\n",
    "    interval [amin, cmax] and a < b < c'''\n",
    "    U = []\n",
    "    for b in range(amin, cmax):\n",
    "        for a in range(amin, b):\n",
    "            c = np.sqrt(a**2 + 2*(b**2))\n",
    "            if c.is_integer() and c > b and c <= cmax:\n",
    "                U.append((int(a),int(b),int(c)))\n",
    "    return list(set(U))"
   ]
  },
  {
   "cell_type": "code",
   "execution_count": 17,
   "metadata": {},
   "outputs": [],
   "source": [
    "# Question 5\n",
    "\n",
    "def reverse_lookup(d,v):\n",
    "    '''builds and returns a sorted list of all\n",
    "    keys that have value v, or an empty list if \n",
    "    there are none'''\n",
    "    U = []\n",
    "    for idx, val in enumerate(list(d.values())):\n",
    "        if val == v:\n",
    "            U.append(list(d.keys())[idx])\n",
    "    return sorted(U)"
   ]
  },
  {
   "cell_type": "code",
   "execution_count": null,
   "metadata": {},
   "outputs": [],
   "source": []
  }
 ],
 "metadata": {
  "kernelspec": {
   "display_name": "Python 3",
   "language": "python",
   "name": "python3"
  },
  "language_info": {
   "codemirror_mode": {
    "name": "ipython",
    "version": 3
   },
   "file_extension": ".py",
   "mimetype": "text/x-python",
   "name": "python",
   "nbconvert_exporter": "python",
   "pygments_lexer": "ipython3",
   "version": "3.7.6"
  }
 },
 "nbformat": 4,
 "nbformat_minor": 4
}
