{
 "cells": [
  {
   "cell_type": "code",
   "execution_count": 13,
   "metadata": {},
   "outputs": [],
   "source": [
    "# Question 1\n",
    "\n",
    "def join_strings(a,b):\n",
    "    '''\n",
    "      This function takes two strings as arguments and returns a string which is the two joined together.\n",
    "    '''\n",
    "    return a+b"
   ]
  },
  {
   "cell_type": "code",
   "execution_count": 2,
   "metadata": {},
   "outputs": [],
   "source": [
    "# Question 2\n",
    "\n",
    "def return_input_plus_ten():\n",
    "    '''\n",
    "      This function gets a user input, converts it to an integer and then returns the value plus 10.\n",
    "    '''    \n",
    "    i= int(input())\n",
    "    return i+10"
   ]
  },
  {
   "cell_type": "code",
   "execution_count": 3,
   "metadata": {},
   "outputs": [],
   "source": [
    "# Question 3\n",
    "\n",
    "def integer_to_string(i):\n",
    "   '''\n",
    "      Function takes an integer argument and returns a string \n",
    "      of 100 times the argument.\n",
    "   '''\n",
    "   return str(i*100)"
   ]
  },
  {
   "cell_type": "code",
   "execution_count": 4,
   "metadata": {},
   "outputs": [],
   "source": [
    "# Question 4\n",
    "\n",
    "def float_split(x):\n",
    "   '''\n",
    "      Function takes a float as argument and returns the integer\n",
    "      part and decimal part as two return values.\n",
    "   '''\n",
    "   return int(x),x-int(x)"
   ]
  },
  {
   "cell_type": "code",
   "execution_count": 5,
   "metadata": {},
   "outputs": [],
   "source": [
    "# Question 5\n",
    "\n",
    "import math\n",
    "\n",
    "'''\n",
    "    This script creates 3 functions, f(x), g(x)\n",
    "    and their composition.\n",
    "'''\n",
    "\n",
    "# The function f(x)\n",
    "def f(x):\n",
    "    # The formula for f(x)\n",
    "    f_value = (x**2) + (3*x) + 3\n",
    "    # Returns the value of f(x)\n",
    "    return f_value\n",
    "\n",
    "# The function g(x)\n",
    "def g(x):\n",
    "    # The formula for g(x)\n",
    "    g_value = math.sin(x) + (2*((x-2)/(x+1)))\n",
    "    # Returns the value of f(x)\n",
    "    return g_value\n",
    "\n",
    "# The composition:\n",
    "def comp(x):\n",
    "    comp_value = f(g(x))\n",
    "    # Returns the value of composition\n",
    "    return comp_value"
   ]
  },
  {
   "cell_type": "code",
   "execution_count": 6,
   "metadata": {},
   "outputs": [],
   "source": [
    "# Question 6\n",
    "\n",
    "import numpy as np\n",
    "\n",
    "def my_sum():\n",
    "    '''\n",
    "        This is a function that calculates the sum of (i + 1) from i = 1 to i = 10.\n",
    "    '''\n",
    "    total = 0 #Initialise total value\n",
    "    for i in np.arange(1,11): #Set up loop to go from 1 to 10\n",
    "        total += i+1 #Increment target\n",
    "    print(total)"
   ]
  },
  {
   "cell_type": "code",
   "execution_count": 7,
   "metadata": {},
   "outputs": [],
   "source": [
    "# Question 7\n",
    "\n",
    "def geometric_sum(a, r):\n",
    "    '''\n",
    "        This is a function that calculates the geometric sum from m = 0 to 25. \n",
    "        The value of the sum is returned.\n",
    "    '''\n",
    "    summation = 0.0 #Initialise summation value\n",
    "    for m in range(26): #Sets up loop to iterate over\n",
    "        summation += float(a*(r**m)) #Iteratively adds to summation value the values of\n",
    "        #geometric series values.\n",
    "    return summation"
   ]
  },
  {
   "cell_type": "code",
   "execution_count": 8,
   "metadata": {},
   "outputs": [],
   "source": [
    "# Question 8\n",
    "\n",
    "def sinh_approx(x):\n",
    "    '''\n",
    "       Function calculates an approximate value for sinh(x)\n",
    "       using the first 50 terms of the Taylor expansion.\n",
    "    '''\n",
    "    value=0.0 #Initialise a floating point number of 0\n",
    "    for i in np.arange(50): #Set up loop to compute 50 terms of sinh(x) taylor\n",
    "    #polynomial\n",
    "        value += (x**(2*i+1))/(math.factorial(2*i+1))\n",
    "    return value"
   ]
  },
  {
   "cell_type": "code",
   "execution_count": 9,
   "metadata": {},
   "outputs": [],
   "source": [
    "# Question 9\n",
    "\n",
    "def sort_names():\n",
    "    '''\n",
    "        This is a function that asks the user to input two names, puts them into a list\n",
    "        in order to sort them, and then prints out which name comes first alphabetically.\n",
    "    '''\n",
    "    name1 = input('Please enter the first name: ') #Ask for first name\n",
    "    name2 = input('Please enter the second name: ') #Ask for second name\n",
    "    L = [name1,name2] #Compile list\n",
    "    print('The name that comes first alphabetically is:')\n",
    "    print(sorted(L)[0]) #print sorted name"
   ]
  },
  {
   "cell_type": "code",
   "execution_count": 10,
   "metadata": {},
   "outputs": [],
   "source": [
    "# Question 10\n",
    "\n",
    "def time_converter(x):\n",
    "    '''\n",
    "       This function prints out the years, months, days, hours, minutes, seconds\n",
    "       represented by a number in milliseconds.\n",
    "    '''\n",
    "    milliseconds = x\n",
    "    milli_remainder = milliseconds%1000\n",
    "    seconds = milliseconds//1000\n",
    "    seconds_remainder = seconds%60\n",
    "    minutes = seconds//60\n",
    "    minutes_remainder = minutes%60\n",
    "    hours = minutes//60\n",
    "    hours_remainder = hours%24\n",
    "    days = hours//24\n",
    "    days_remainder = days%30\n",
    "    months = days//30\n",
    "    months_remainder = months%12\n",
    "    years = months//12\n",
    "    print(years)\n",
    "    print(months_remainder)\n",
    "    print(days_remainder)\n",
    "    print(hours_remainder)\n",
    "    print(minutes_remainder)\n",
    "    print(seconds_remainder)\n",
    "    print(milli_remainder)"
   ]
  },
  {
   "cell_type": "code",
   "execution_count": 11,
   "metadata": {},
   "outputs": [],
   "source": [
    "# Question 11\n",
    "\n",
    "def fibonacci():\n",
    "    '''\n",
    "        This function uses a list and a for loop to compute the first 30 fibonacci numbers.\n",
    "    '''\n",
    "    L=[0, 1]\n",
    "    for i in np.arange(2, 30):\n",
    "        L.append(L[i-2] + L[i-1])\n",
    "    return L"
   ]
  },
  {
   "cell_type": "code",
   "execution_count": 12,
   "metadata": {},
   "outputs": [],
   "source": [
    "# Question 12\n",
    "\n",
    "def q_sequence():\n",
    "    '''\n",
    "        This function calculates Hofstader's Q-sequence, and returns a list of the first\n",
    "        300 values of the sequence.\n",
    "    '''\n",
    "    Q = [1,1] #Initialise list\n",
    "    for i in np.arange(2,300):\n",
    "        Q.append(Q[i-Q[i-1]]+Q[i-Q[i-2]]) #Compute list\n",
    "    return Q"
   ]
  },
  {
   "cell_type": "code",
   "execution_count": null,
   "metadata": {},
   "outputs": [],
   "source": []
  }
 ],
 "metadata": {
  "kernelspec": {
   "display_name": "Python 3",
   "language": "python",
   "name": "python3"
  },
  "language_info": {
   "codemirror_mode": {
    "name": "ipython",
    "version": 3
   },
   "file_extension": ".py",
   "mimetype": "text/x-python",
   "name": "python",
   "nbconvert_exporter": "python",
   "pygments_lexer": "ipython3",
   "version": "3.7.6"
  }
 },
 "nbformat": 4,
 "nbformat_minor": 4
}
