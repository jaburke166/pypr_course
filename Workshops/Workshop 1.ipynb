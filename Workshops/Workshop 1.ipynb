{
 "cells": [
  {
   "cell_type": "code",
   "execution_count": 1,
   "metadata": {},
   "outputs": [],
   "source": [
    "# Question 1\n",
    "\n",
    "def stringprint(string_argument):\n",
    "    '''\n",
    "       This function takes a string as its only argument\n",
    "       and prints it to the screen.\n",
    "    '''\n",
    "    print(str(string_argument))"
   ]
  },
  {
   "cell_type": "code",
   "execution_count": null,
   "metadata": {},
   "outputs": [],
   "source": [
    "# Question 2\n",
    "\n",
    "def calculation_number1():\n",
    "    '''\n",
    "       Calculate the value according to the given formula and return it.\n",
    "    '''\n",
    "    e = (0.54 + 3.14 + 0.59 + 297.0)**(3/2)\n",
    "    return(e)"
   ]
  },
  {
   "cell_type": "code",
   "execution_count": null,
   "metadata": {},
   "outputs": [],
   "source": [
    "# Question 3\n",
    "\n",
    "def calculation_number2():\n",
    "    '''\n",
    "       Return the value of y from the calculation detailed in the question.\n",
    "    '''\n",
    "    x = 0.45\n",
    "    y = (x**3) + 3*(x**2) + 2*x + 1\n",
    "    return(y)"
   ]
  },
  {
   "cell_type": "code",
   "execution_count": 8,
   "metadata": {},
   "outputs": [],
   "source": [
    "# Question 4\n",
    "\n",
    "import math\n",
    "def circle_properties(r):\n",
    "    '''\n",
    "       This function has an argument consisting of a number which is the radius\n",
    "       of a circle, it prints out statements giving the diameter, area and circumference \n",
    "       of the circle.\n",
    "    '''\n",
    "\n",
    "    # Taking in the radius we calculate the diameter, circumfrence and area\n",
    "    d = 2*r\n",
    "    c = d*math.pi\n",
    "    a = (r**2)*math.pi\n",
    "    print(\"The diameter of the circle is:\")\n",
    "    print(d)\n",
    "    print(\"The circumference of the circle is:\")\n",
    "    print(round(c,2))\n",
    "    print(\"The area of the circle is:\")\n",
    "    print(round(a,2))"
   ]
  },
  {
   "cell_type": "code",
   "execution_count": 9,
   "metadata": {},
   "outputs": [],
   "source": [
    "# Question 5\n",
    "\n",
    "def temp_convert(deg_far):\n",
    "    '''\n",
    "       Function takes an argument consisting of a temperature in degree farenheit\n",
    "       and prints out its conversion to degree Centrigrade.\n",
    "    '''\n",
    "    # Taking the fahrenheit degrees we compute the relative conversion to \n",
    "    #find the degrees in celsius\n",
    "    deg_cel = (5*(deg_far - 32)) / 9\n",
    "    print(round(deg_cel,2))"
   ]
  },
  {
   "cell_type": "code",
   "execution_count": 10,
   "metadata": {},
   "outputs": [],
   "source": [
    "# Question 6\n",
    "\n",
    "def intersection():\n",
    "    '''\n",
    "        This is a function used to calculate two points of intersection between\n",
    "        the curves f(x) and g(x). It prints out the (x,y) coordinates of both points.\n",
    "    '''\n",
    "    #Note down the constants multiplying each polynomial degree in both f and g.\n",
    "    f2,f1,f0 = 1, 3, math.sqrt(5)\n",
    "    g2,g1,g0 = -1, -2, 1\n",
    "    # We construct new quadratic via equating f and g and collecting terms:\n",
    "    d2, d1, d0 = (f2-g2), (f1-g1), (f0-g0)\n",
    "    \n",
    "    #Calculate the discriminant and determine which formula to do via it's parity\n",
    "    discriminant = d1**2-4*d2*d0\n",
    "    \n",
    "    #Using the quadratic formula we determine x-positions of intersection\n",
    "    if discriminant < 0 or discriminant > 0:\n",
    "        root1 = (-d1+pow(discriminant,0.5)) / (2*d2)\n",
    "        root2 = (-d1-pow(discriminant,0.5)) / (2*d2)\n",
    "    else:\n",
    "        root1 = -d1/(2*d2)\n",
    "        root2 = root1\n",
    "        \n",
    "    #We now compute the y-values by substituting the x-values into one of f or g\n",
    "    y1 = round(f2*root1**2 + f1*root1 + f0,2)\n",
    "    y2 = round(f2*root2**2 + f1*root2 + f0,2)\n",
    "    \n",
    "    print('Root 1:')\n",
    "    print(\"({}, {})\".format(round(root1,2), y1))\n",
    "    print('Root 2:')\n",
    "    print(\"({}, {})\".format(round(root2,2), y2))"
   ]
  },
  {
   "cell_type": "code",
   "execution_count": 12,
   "metadata": {},
   "outputs": [],
   "source": [
    "# Question 7\n",
    "\n",
    "from numpy import *\n",
    "def tan_calc():\n",
    "    '''\n",
    "       Function prints out the value of tan(3*pi/7) calculated using NumPy\n",
    "    '''\n",
    "    d = tan(3*pi/7)\n",
    "    print(round(d,3))"
   ]
  },
  {
   "cell_type": "code",
   "execution_count": 14,
   "metadata": {},
   "outputs": [],
   "source": [
    "# Question 8\n",
    "\n",
    "import numpy as np\n",
    "\n",
    "def sin_calc():\n",
    "    '''\n",
    "       Function calculates the value of sin(pi/3) using NumPy and \n",
    "       rounds it to 3dp and prints the result out to the screen.\n",
    "    '''\n",
    "    c = np.sin(pi/3)\n",
    "    c = round(c,3)\n",
    "    print(c)"
   ]
  },
  {
   "cell_type": "code",
   "execution_count": 15,
   "metadata": {},
   "outputs": [],
   "source": [
    "# Question 9\n",
    "\n",
    "def arc_calc():\n",
    "    '''\n",
    "       Function uses numpy to find arctan(3.0) round it to 3dp and print it to the screen.\n",
    "    '''\n",
    "    t = arctan(3.0)\n",
    "    t = round(i,3)\n",
    "    print(t)"
   ]
  },
  {
   "cell_type": "code",
   "execution_count": 16,
   "metadata": {},
   "outputs": [],
   "source": [
    "# Question 10\n",
    "\n",
    "def sqrt_calc():\n",
    "    # Compute value as shown in question\n",
    "    x = round(10*sqrt(2*(11.4+12.6)),3)\n",
    "    return x"
   ]
  },
  {
   "cell_type": "code",
   "execution_count": 17,
   "metadata": {},
   "outputs": [],
   "source": [
    "# Question 11\n",
    "\n",
    "def circle_calc():\n",
    "    '''\n",
    "        Function calculates the radius and area of a circle given the \n",
    "        diameter = 4 cm. It returns the value of the area.\n",
    "    '''\n",
    "    diameter = 4\n",
    "    radius = diameter / 2\n",
    "    area = pi*(radius**2)\n",
    "    area = round(area,3)\n",
    "    return area"
   ]
  },
  {
   "cell_type": "code",
   "execution_count": 18,
   "metadata": {},
   "outputs": [],
   "source": [
    "# Question 12\n",
    "\n",
    "def sphere_calc():\n",
    "    '''\n",
    "        Function calculates the radius and volume of a sphere that is \n",
    "        inscribed within a cube with side length 5cm. It prints the \n",
    "        value of the volume\n",
    "    '''\n",
    "    d = 5\n",
    "    r = d/2\n",
    "    v = (4/3)*pi*(r**3)\n",
    "    v = round(v, 2)\n",
    "    print(v)"
   ]
  },
  {
   "cell_type": "code",
   "execution_count": 19,
   "metadata": {},
   "outputs": [],
   "source": [
    "# Question 13\n",
    "\n",
    "def degree_calc():\n",
    "    '''\n",
    "       Function calculates sin(32 degrees) and prints the result.\n",
    "    '''\n",
    "    h = np.sin(np.radians(32))\n",
    "    h = round(h,4)\n",
    "    print(h)"
   ]
  },
  {
   "cell_type": "code",
   "execution_count": 20,
   "metadata": {},
   "outputs": [],
   "source": [
    "# Question 14\n",
    "\n",
    "def long_function(x):\n",
    "    # Calculate numerator and then denominator and calculate quotient\n",
    "    num = (10 + sin(x) + x**2 + cosh(x**2+1))\n",
    "    den = (sinh(x) + x**3 + 3*x**4 + exp(x))\n",
    "    y = round(num / den,3)\n",
    "    print(y)\n"
   ]
  },
  {
   "cell_type": "code",
   "execution_count": 21,
   "metadata": {},
   "outputs": [],
   "source": [
    "# Question 15\n",
    "\n",
    "def long_function(x):\n",
    "    # Calculate numerator and then denominator and calculate quotient\n",
    "    num = (10 + sin(x) + x**2 + cosh(x**2+1))\n",
    "    den = (sinh(x) + x**3 + 3*x**4 + exp(x))\n",
    "    y = round(num / den,3)\n",
    "    print(y)\n"
   ]
  },
  {
   "cell_type": "code",
   "execution_count": 22,
   "metadata": {},
   "outputs": [],
   "source": [
    "# Question 16\n",
    "\n",
    "def coordinate_converter(x,y):\n",
    "    r = math.sqrt(x**2 + y**2) # Calculating the radius\n",
    "    theta = math.atan(y/x)#Calculating the angle of inclination\n",
    "    return r, theta"
   ]
  },
  {
   "cell_type": "code",
   "execution_count": null,
   "metadata": {},
   "outputs": [],
   "source": []
  }
 ],
 "metadata": {
  "kernelspec": {
   "display_name": "Python 3",
   "language": "python",
   "name": "python3"
  },
  "language_info": {
   "codemirror_mode": {
    "name": "ipython",
    "version": 3
   },
   "file_extension": ".py",
   "mimetype": "text/x-python",
   "name": "python",
   "nbconvert_exporter": "python",
   "pygments_lexer": "ipython3",
   "version": "3.7.6"
  }
 },
 "nbformat": 4,
 "nbformat_minor": 4
}
