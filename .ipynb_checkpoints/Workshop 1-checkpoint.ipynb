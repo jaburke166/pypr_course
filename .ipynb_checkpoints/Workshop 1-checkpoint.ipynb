{
 "cells": [
  {
   "cell_type": "code",
   "execution_count": 1,
   "metadata": {},
   "outputs": [],
   "source": [
    "# Question 1\n",
    "\n",
    "def stringprint(string_argument):\n",
    "    '''\n",
    "       This function takes a string as its only argument\n",
    "       and prints it to the screen.\n",
    "    '''\n",
    "    print(str(string_argument))"
   ]
  },
  {
   "cell_type": "code",
   "execution_count": null,
   "metadata": {},
   "outputs": [],
   "source": [
    "# Question 2\n",
    "\n",
    "def calculation_number1():\n",
    "    '''\n",
    "       Calculate the value according to the given formula and return it.\n",
    "    '''\n",
    "    e = (0.54 + 3.14 + 0.59 + 297.0)**(3/2)\n",
    "    return(e)"
   ]
  },
  {
   "cell_type": "code",
   "execution_count": null,
   "metadata": {},
   "outputs": [],
   "source": [
    "# Question 3\n",
    "\n",
    "def calculation_number2():\n",
    "    '''\n",
    "       Return the value of y from the calculation detailed in the question.\n",
    "    '''\n",
    "    x = 0.45\n",
    "    y = (x**3) + 3*(x**2) + 2*x + 1\n",
    "    return(y)"
   ]
  },
  {
   "cell_type": "code",
   "execution_count": null,
   "metadata": {},
   "outputs": [],
   "source": [
    "import math\n",
    "def circle_properties(r):\n",
    "    '''\n",
    "       This function has an argument consisting of a number which is the radius\n",
    "       of a circle, it prints out statements giving the diameter, area and circumference \n",
    "       of the circle.\n",
    "    '''\n",
    "\n",
    "    # Taking in the radius we calculate the diameter, circumfrence and area\n",
    "    d = 2*r\n",
    "    c = d*math.pi\n",
    "    a = (r**2)*math.pi\n",
    "    print(\"The diameter of the circle is:\")\n",
    "    print(d)\n",
    "    print(\"The circumference of the circle is:\")\n",
    "    print(round(c,2))\n",
    "    print(\"The area of the circle is:\")\n",
    "    print(round(a,2))"
   ]
  },
  {
   "cell_type": "code",
   "execution_count": null,
   "metadata": {},
   "outputs": [],
   "source": [
    "def temp_convert(deg_far):\n",
    "    '''\n",
    "       Function takes an argument consisting of a temperature in degree farenheit\n",
    "       and prints out its conversion to degree Centrigrade.\n",
    "    '''\n",
    "    # Taking the fahrenheit degrees we compute the relative conversion to \n",
    "    #find the degrees in celsius\n",
    "    deg_cel = (5*(deg_far - 32)) / 9\n",
    "    print(round(deg_cel,2))"
   ]
  }
 ],
 "metadata": {
  "kernelspec": {
   "display_name": "Python 3",
   "language": "python",
   "name": "python3"
  },
  "language_info": {
   "codemirror_mode": {
    "name": "ipython",
    "version": 3
   },
   "file_extension": ".py",
   "mimetype": "text/x-python",
   "name": "python",
   "nbconvert_exporter": "python",
   "pygments_lexer": "ipython3",
   "version": "3.7.6"
  }
 },
 "nbformat": 4,
 "nbformat_minor": 4
}
